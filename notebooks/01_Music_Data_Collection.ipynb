{
 "cells": [
  {
   "cell_type": "code",
   "execution_count": null,
   "id": "f0d23b35",
   "metadata": {},
   "outputs": [],
   "source": [
    "from bs4 import BeautifulSoup\n",
    "import requests\n",
    "import os\n",
    "from tqdm import tqdm\n",
    "import re\n",
    "import time\n",
    "import json\n",
    "import pandas as pd\n",
    "from datetime import datetime, timedelta"
   ]
  },
  {
   "cell_type": "code",
   "execution_count": null,
   "id": "55470413",
   "metadata": {},
   "outputs": [],
   "source": [
    "from dotenv import load_dotenv\n",
    "\n",
    "file_name = \"../var.env\"\n",
    "load_dotenv(file_name)"
   ]
  },
  {
   "cell_type": "code",
   "execution_count": null,
   "id": "295a1c38",
   "metadata": {},
   "outputs": [],
   "source": [
    "all_entries = []"
   ]
  },
  {
   "cell_type": "code",
   "execution_count": null,
   "id": "d667de1b",
   "metadata": {},
   "outputs": [],
   "source": [
    "pdf_folder = \"../pdfs\"\n",
    "filepaths = [os.path.join(pdf_folder, f) for f in os.listdir(pdf_folder) if f.endswith(\".pdf\")]\n",
    "headers = {\"User-Agent\": \"Chrome/114.0.0.0 Safari/537.36\"}\n",
    "\n",
    "for f in tqdm(filepaths):\n",
    "        date = re.search(r\"s_(.*?)\\.\", f).group(1)\n",
    "        base_url = f\"https://www.billboard.com/charts/hot-100/{date}\"\n",
    "        try:\n",
    "                response = requests.get(url=base_url, headers=headers)\n",
    "                response.raise_for_status()\n",
    "        except requests.exceptions.RequestException as error:\n",
    "                print(error)\n",
    "        else:\n",
    "                filler = [\"Producer(s):\", \"Imprint/Promotion Label:\", \"Gains in Weekly Performance\", \"Additional Awards\"]\n",
    "                soup = BeautifulSoup(response.text, \"html.parser\")\n",
    "                html_list = soup.find_all(name=\"ul\", class_=\"o-chart-results-list-row\")\n",
    "                for item in html_list:\n",
    "                        ranks = item.find_all(name=\"span\", class_=\"c-label\")\n",
    "                        title = item.find(name=\"h3\", class_=\"c-title\")\n",
    "                        if not title or len(ranks) < 3:\n",
    "                                continue\n",
    "                        \n",
    "                        wrong_artists = [\"NEW\", \"RE-ENTRY\"]\n",
    "                        song_name = title.getText().strip()\n",
    "                        temp_artist = ranks[1].getText().strip().replace(\"\\n\", \"\")\n",
    "                        artist = temp_artist if temp_artist not in wrong_artists else ranks[3].getText().strip()\n",
    "                        ranks = [item.getText().strip() for item in ranks]\n",
    "                        weeks_rank = int(ranks[0]) if re.match(r\"\\d+\", ranks[0]) else None\n",
    "                        last_weeks_rank = int(ranks[-3]) if re.match(r\"\\d+\", ranks[-3]) else None\n",
    "                        weeks_on_chart = int(ranks[-1]) if re.match(r\"\\d+\", ranks[-1]) else None\n",
    "                        all_entries.append(\n",
    "                                {\n",
    "                                        \"date\" : date,\n",
    "                                        \"song_name\": song_name,\n",
    "                                        \"artist\": artist,\n",
    "                                        \"weeks_rank\": weeks_rank,\n",
    "                                        \"last_weeks_rank\": last_weeks_rank,\n",
    "                                        \"weeks_on_chart\": weeks_on_chart\n",
    "                                }\n",
    "                        )\n",
    "        time.sleep(0.2)"
   ]
  },
  {
   "cell_type": "code",
   "execution_count": null,
   "id": "1ffdcfe2",
   "metadata": {},
   "outputs": [],
   "source": [
    "pd.DataFrame(all_entries).to_csv(\"../data/raw/billboard_100_data.csv\")"
   ]
  },
  {
   "cell_type": "code",
   "execution_count": null,
   "id": "668071a6",
   "metadata": {},
   "outputs": [],
   "source": [
    "song_bank = pd.read_csv(\"../data/raw/billboard_100_data.csv\")"
   ]
  },
  {
   "cell_type": "code",
   "execution_count": null,
   "id": "40956682",
   "metadata": {},
   "outputs": [],
   "source": [
    "def get_season(date):\n",
    "    month = date.month\n",
    "    if month in [12, 1, 2]:\n",
    "        return \"Winter\"\n",
    "    elif month in [3, 4, 5]:\n",
    "        return \"Spring\"\n",
    "    elif month in [6, 7, 8]:\n",
    "        return \"Summer\"\n",
    "    elif month in [9, 10, 11]:\n",
    "        return \"Autumn\""
   ]
  },
  {
   "cell_type": "code",
   "execution_count": null,
   "id": "9d564733",
   "metadata": {},
   "outputs": [],
   "source": [
    "song_bank[\"date\"] = pd.to_datetime(song_bank[\"date\"])"
   ]
  },
  {
   "cell_type": "code",
   "execution_count": null,
   "id": "584a79aa",
   "metadata": {},
   "outputs": [],
   "source": [
    "song_bank[\"season\"] = song_bank[\"date\"].apply(get_season)"
   ]
  },
  {
   "cell_type": "code",
   "execution_count": null,
   "id": "992b113d",
   "metadata": {},
   "outputs": [],
   "source": [
    "data = song_bank[song_bank[\"date\"].dt.year > 1999]"
   ]
  },
  {
   "cell_type": "code",
   "execution_count": null,
   "id": "bbe4a781",
   "metadata": {},
   "outputs": [],
   "source": [
    "all_entries = list(data.to_dict(orient=\"records\"))"
   ]
  },
  {
   "cell_type": "code",
   "execution_count": null,
   "id": "7bb6dbb6",
   "metadata": {},
   "outputs": [],
   "source": [
    "client_id = os.getenv(\"SPOTIFY_ID\")\n",
    "client_secret = os.getenv(\"SPOTIFY_SECRET\")"
   ]
  },
  {
   "cell_type": "code",
   "execution_count": null,
   "id": "d3b5e58b",
   "metadata": {},
   "outputs": [],
   "source": [
    "import json\n",
    "\n",
    "def load_cache(path=\"../data/raw/uri_cache.json\"):\n",
    "    if os.path.exists(path):\n",
    "        with open(path, \"r\") as f:\n",
    "            return json.load(f)\n",
    "    return {}\n",
    "\n",
    "def save_cache(cache, path=\"../data/raw/uri_cache.json\"):\n",
    "    with open(path, \"w\") as f:\n",
    "        json.dump(cache, f)"
   ]
  },
  {
   "cell_type": "code",
   "execution_count": null,
   "id": "1a234e66",
   "metadata": {},
   "outputs": [],
   "source": [
    "import spotipy\n",
    "from spotipy import SpotifyOAuth\n",
    "\n",
    "sp = spotipy.Spotify(\n",
    "        auth_manager=SpotifyOAuth(\n",
    "            client_id=client_id,\n",
    "            client_secret=client_secret,\n",
    "            redirect_uri=\"https://github.com/Tunchiie\",\n",
    "            scope=\"playlist-modify-private playlist-modify-public\",\n",
    "        ),\n",
    "        requests_timeout=30 \n",
    "    )"
   ]
  },
  {
   "cell_type": "code",
   "execution_count": null,
   "id": "286c39cb",
   "metadata": {},
   "outputs": [],
   "source": [
    "def search_uri(batch):\n",
    "    cache = load_cache()\n",
    "\n",
    "    for song in tqdm(batch):\n",
    "        \n",
    "        key = f\"{song[\"song_name\"]} - {song[\"artist\"]}\"\n",
    "        \n",
    "        if key in cache:\n",
    "            uri = cache[key]\n",
    "        else:\n",
    "            query = f'track:{song[\"song_name\"]} artist:{song[\"artist\"]}'\n",
    "        \n",
    "            try:\n",
    "                result = sp.search(q=query, type=\"track\", limit=1)[\"tracks\"][\"items\"]\n",
    "                time.sleep(0.2)\n",
    "        \n",
    "                if result:\n",
    "                    cache[key] = result[0][\"uri\"]\n",
    "            except spotipy.SpotifyException as error:\n",
    "                retry_after = int(error.headers.get(\"Retry-After\", 60))\n",
    "                print(f\"Rate limit hit. Retrying after {retry_after} seconds.\")\n",
    "                time.sleep(retry_after)\n",
    "    save_cache(cache)"
   ]
  },
  {
   "cell_type": "code",
   "execution_count": null,
   "id": "c9d7f969",
   "metadata": {},
   "outputs": [],
   "source": [
    "def create_playlist():\n",
    "    me = sp.current_user()\n",
    "    user_id = me[\"id\"]\n",
    "    \n",
    "    cache = load_cache()\n",
    "    playlist_count = 1\n",
    "    batch = []\n",
    "    \n",
    "    for key, uri in cache.items():\n",
    "        batch.append(uri)\n",
    "        \n",
    "        if len(batch) % 100 == 0:           \n",
    "            playlist = sp.user_playlist_create(user=user_id, name=f\"Billboard 100_{playlist_count}\")\n",
    "            sp.playlist_add_items(\n",
    "                playlist_id=playlist[\"id\"],\n",
    "                items=batch,\n",
    "            )\n",
    "            playlist_count += 1\n",
    "            batch = []\n",
    "            time.sleep(1)"
   ]
  },
  {
   "cell_type": "code",
   "execution_count": null,
   "id": "beace78a",
   "metadata": {},
   "outputs": [],
   "source": [
    "from more_itertools import chunked\n",
    "books_key = os.getenv(\"BOOKS_KEY\")\n",
    "\n",
    "first_batch = False\n",
    "batches = list(chunked(all_entries, 1000))\n",
    "for batch in batches:\n",
    "    search_uri(batch)\n",
    "    time.sleep(10)\n",
    "create_playlist()"
   ]
  },
  {
   "cell_type": "code",
   "execution_count": null,
   "id": "6e20785a",
   "metadata": {},
   "outputs": [],
   "source": [
    "from glob import glob\n",
    "\n",
    "folder_path = \"../data/spotify_data/spotify_playlists\"\n",
    "\n",
    "all_files = glob(os.path.join(folder_path, \"*.csv\"))\n",
    "dfs = []\n",
    "\n",
    "for file in all_files:\n",
    "    df = pd.read_csv(file)\n",
    "    if \"Track URI\" in df.columns:\n",
    "        df = df.rename(columns={\"Track URI\": \"uri\"})\n",
    "    elif \"URI\" in df.columns:\n",
    "        df = df.rename(columns={\"URI\": \"uri\"})\n",
    "    \n",
    "    df[\"source_playlist\"] = os.path.basename(file)  \n",
    "    dfs.append(df)\n",
    "\n",
    "# Combine all data\n",
    "combined = pd.concat(dfs, ignore_index=True)\n",
    "\n",
    "combined.to_csv(\"../data/spotify_data/joined_exportify_data.csv\")"
   ]
  }
 ],
 "metadata": {
  "language_info": {
   "name": "python"
  }
 },
 "nbformat": 4,
 "nbformat_minor": 5
}
