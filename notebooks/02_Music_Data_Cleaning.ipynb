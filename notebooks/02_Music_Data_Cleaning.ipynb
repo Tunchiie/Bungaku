{
 "cells": [
  {
   "cell_type": "code",
   "execution_count": null,
   "id": "52337b40",
   "metadata": {},
   "outputs": [],
   "source": [
    "import pandas as pd\n",
    "import sys\n",
    "import time\n",
    "from tqdm import tqdm\n",
    "sys.path.append(\"../scripts\")\n",
    "from spotiFetch import SearchSpoti"
   ]
  },
  {
   "cell_type": "code",
   "execution_count": 6,
   "id": "219c6492",
   "metadata": {},
   "outputs": [],
   "source": [
    "features_data = pd.read_csv(\"../data/raw/joined_exportify_data.csv\", index_col=0)"
   ]
  },
  {
   "cell_type": "code",
   "execution_count": 7,
   "id": "633fa7e1",
   "metadata": {},
   "outputs": [
    {
     "data": {
      "text/html": [
       "<div>\n",
       "<style scoped>\n",
       "    .dataframe tbody tr th:only-of-type {\n",
       "        vertical-align: middle;\n",
       "    }\n",
       "\n",
       "    .dataframe tbody tr th {\n",
       "        vertical-align: top;\n",
       "    }\n",
       "\n",
       "    .dataframe thead th {\n",
       "        text-align: right;\n",
       "    }\n",
       "</style>\n",
       "<table border=\"1\" class=\"dataframe\">\n",
       "  <thead>\n",
       "    <tr style=\"text-align: right;\">\n",
       "      <th></th>\n",
       "      <th>uri</th>\n",
       "      <th>Track Name</th>\n",
       "      <th>Artist URI(s)</th>\n",
       "      <th>Artist Name(s)</th>\n",
       "      <th>Album URI</th>\n",
       "      <th>Album Name</th>\n",
       "      <th>Album Artist URI(s)</th>\n",
       "      <th>Album Artist Name(s)</th>\n",
       "      <th>Album Release Date</th>\n",
       "      <th>Album Image URL</th>\n",
       "      <th>...</th>\n",
       "      <th>Acousticness</th>\n",
       "      <th>Instrumentalness</th>\n",
       "      <th>Liveness</th>\n",
       "      <th>Valence</th>\n",
       "      <th>Tempo</th>\n",
       "      <th>Time Signature</th>\n",
       "      <th>Album Genres</th>\n",
       "      <th>Label</th>\n",
       "      <th>Copyrights</th>\n",
       "      <th>source_playlist</th>\n",
       "    </tr>\n",
       "  </thead>\n",
       "  <tbody>\n",
       "    <tr>\n",
       "      <th>14</th>\n",
       "      <td>spotify:track:0aKWpnMZCR42M9lLhnzJEZ</td>\n",
       "      <td>That's the Way It Is</td>\n",
       "      <td>spotify:artist:4S9EykWXhStSc15wEx8QFK</td>\n",
       "      <td>Céline Dion</td>\n",
       "      <td>spotify:album:1YV5gnob3qCnMQuVomwGwG</td>\n",
       "      <td>Love Again (Soundtrack from the Motion Picture)</td>\n",
       "      <td>spotify:artist:4S9EykWXhStSc15wEx8QFK</td>\n",
       "      <td>Céline Dion</td>\n",
       "      <td>2023-05-12</td>\n",
       "      <td>https://i.scdn.co/image/ab67616d0000b2734c3fe9...</td>\n",
       "      <td>...</td>\n",
       "      <td>0.07560</td>\n",
       "      <td>0.000000</td>\n",
       "      <td>0.1140</td>\n",
       "      <td>0.535</td>\n",
       "      <td>186.026</td>\n",
       "      <td>4.0</td>\n",
       "      <td>NaN</td>\n",
       "      <td>Columbia</td>\n",
       "      <td>P Compilation (P) 2023 Sony Music Entertainmen...</td>\n",
       "      <td>billboard_100_1.csv</td>\n",
       "    </tr>\n",
       "    <tr>\n",
       "      <th>6341</th>\n",
       "      <td>spotify:track:3IaxObCWKEaGtIT78GsEpP</td>\n",
       "      <td>GIMMICK</td>\n",
       "      <td>spotify:artist:2hlmm7s2ICUX0LVIhVFlZQ</td>\n",
       "      <td>Gunna</td>\n",
       "      <td>spotify:album:0gA0nZrZ55PLUp7ARfrICu</td>\n",
       "      <td>WUNNA</td>\n",
       "      <td>spotify:artist:2hlmm7s2ICUX0LVIhVFlZQ</td>\n",
       "      <td>Gunna</td>\n",
       "      <td>2020-05-22</td>\n",
       "      <td>https://i.scdn.co/image/ab67616d0000b2730c44c5...</td>\n",
       "      <td>...</td>\n",
       "      <td>0.00353</td>\n",
       "      <td>0.000000</td>\n",
       "      <td>0.1020</td>\n",
       "      <td>0.580</td>\n",
       "      <td>111.971</td>\n",
       "      <td>4.0</td>\n",
       "      <td>NaN</td>\n",
       "      <td>300 Entertainment</td>\n",
       "      <td>C © 2020 Young Stoner Life Records / 300 Enter...</td>\n",
       "      <td>billboard_100_62.csv</td>\n",
       "    </tr>\n",
       "    <tr>\n",
       "      <th>8613</th>\n",
       "      <td>spotify:track:5UcUppRaEIBMIHXiUFl7LI</td>\n",
       "      <td>SPAGHETTII</td>\n",
       "      <td>spotify:artist:6vWDO969PvNqNYHIOW5v0m, spotify...</td>\n",
       "      <td>Beyoncé, Linda Martell, Shaboozey</td>\n",
       "      <td>spotify:album:6BzxX6zkDsYKFJ04ziU5xQ</td>\n",
       "      <td>COWBOY CARTER</td>\n",
       "      <td>spotify:artist:6vWDO969PvNqNYHIOW5v0m</td>\n",
       "      <td>Beyoncé</td>\n",
       "      <td>2024-03-29</td>\n",
       "      <td>https://i.scdn.co/image/ab67616d0000b273157269...</td>\n",
       "      <td>...</td>\n",
       "      <td>0.47600</td>\n",
       "      <td>0.000000</td>\n",
       "      <td>0.0996</td>\n",
       "      <td>0.333</td>\n",
       "      <td>94.522</td>\n",
       "      <td>3.0</td>\n",
       "      <td>NaN</td>\n",
       "      <td>Parkwood Entertainment/Columbia</td>\n",
       "      <td>P (P) 2024 Parkwood Entertainment LLC, under e...</td>\n",
       "      <td>billboard_100_81.csv</td>\n",
       "    </tr>\n",
       "    <tr>\n",
       "      <th>5270</th>\n",
       "      <td>spotify:track:59XHPyb0MTMElZpkG0Wp69</td>\n",
       "      <td>Change Lanes</td>\n",
       "      <td>spotify:artist:1gPhS1zisyXr5dHTYZyiMe</td>\n",
       "      <td>Kevin Gates</td>\n",
       "      <td>spotify:album:2mnmriBwjAJfBMgndTJYL8</td>\n",
       "      <td>Chained to the City</td>\n",
       "      <td>spotify:artist:1gPhS1zisyXr5dHTYZyiMe</td>\n",
       "      <td>Kevin Gates</td>\n",
       "      <td>2018-05-16</td>\n",
       "      <td>https://i.scdn.co/image/ab67616d0000b273b6e97a...</td>\n",
       "      <td>...</td>\n",
       "      <td>0.12900</td>\n",
       "      <td>0.000000</td>\n",
       "      <td>0.0952</td>\n",
       "      <td>0.513</td>\n",
       "      <td>130.195</td>\n",
       "      <td>4.0</td>\n",
       "      <td>NaN</td>\n",
       "      <td>Bread Winners' Association</td>\n",
       "      <td>C © 2018 Bread Winners' Association, P ℗ 2018 ...</td>\n",
       "      <td>billboard_100_53.csv</td>\n",
       "    </tr>\n",
       "    <tr>\n",
       "      <th>4997</th>\n",
       "      <td>spotify:track:5Z3GHaZ6ec9bsiI5BenrbY</td>\n",
       "      <td>Young Dumb &amp; Broke</td>\n",
       "      <td>spotify:artist:6LuN9FCkKOj5PcnpouEgny</td>\n",
       "      <td>Khalid</td>\n",
       "      <td>spotify:album:6kf46HbnYCZzP6rjvQHYzg</td>\n",
       "      <td>American Teen</td>\n",
       "      <td>spotify:artist:6LuN9FCkKOj5PcnpouEgny</td>\n",
       "      <td>Khalid</td>\n",
       "      <td>2017-04-27</td>\n",
       "      <td>https://i.scdn.co/image/ab67616d0000b273988ede...</td>\n",
       "      <td>...</td>\n",
       "      <td>0.19900</td>\n",
       "      <td>0.000017</td>\n",
       "      <td>0.1650</td>\n",
       "      <td>0.394</td>\n",
       "      <td>136.948</td>\n",
       "      <td>4.0</td>\n",
       "      <td>NaN</td>\n",
       "      <td>Right Hand Music Group, LLC/RCA Records</td>\n",
       "      <td>P (P) 2017 RCA Records, a division of Sony Mus...</td>\n",
       "      <td>billboard_100_50.csv</td>\n",
       "    </tr>\n",
       "  </tbody>\n",
       "</table>\n",
       "<p>5 rows × 36 columns</p>\n",
       "</div>"
      ],
      "text/plain": [
       "                                       uri            Track Name  \\\n",
       "14    spotify:track:0aKWpnMZCR42M9lLhnzJEZ  That's the Way It Is   \n",
       "6341  spotify:track:3IaxObCWKEaGtIT78GsEpP               GIMMICK   \n",
       "8613  spotify:track:5UcUppRaEIBMIHXiUFl7LI            SPAGHETTII   \n",
       "5270  spotify:track:59XHPyb0MTMElZpkG0Wp69          Change Lanes   \n",
       "4997  spotify:track:5Z3GHaZ6ec9bsiI5BenrbY    Young Dumb & Broke   \n",
       "\n",
       "                                          Artist URI(s)  \\\n",
       "14                spotify:artist:4S9EykWXhStSc15wEx8QFK   \n",
       "6341              spotify:artist:2hlmm7s2ICUX0LVIhVFlZQ   \n",
       "8613  spotify:artist:6vWDO969PvNqNYHIOW5v0m, spotify...   \n",
       "5270              spotify:artist:1gPhS1zisyXr5dHTYZyiMe   \n",
       "4997              spotify:artist:6LuN9FCkKOj5PcnpouEgny   \n",
       "\n",
       "                         Artist Name(s)                             Album URI  \\\n",
       "14                          Céline Dion  spotify:album:1YV5gnob3qCnMQuVomwGwG   \n",
       "6341                              Gunna  spotify:album:0gA0nZrZ55PLUp7ARfrICu   \n",
       "8613  Beyoncé, Linda Martell, Shaboozey  spotify:album:6BzxX6zkDsYKFJ04ziU5xQ   \n",
       "5270                        Kevin Gates  spotify:album:2mnmriBwjAJfBMgndTJYL8   \n",
       "4997                             Khalid  spotify:album:6kf46HbnYCZzP6rjvQHYzg   \n",
       "\n",
       "                                           Album Name  \\\n",
       "14    Love Again (Soundtrack from the Motion Picture)   \n",
       "6341                                            WUNNA   \n",
       "8613                                    COWBOY CARTER   \n",
       "5270                              Chained to the City   \n",
       "4997                                    American Teen   \n",
       "\n",
       "                        Album Artist URI(s) Album Artist Name(s)  \\\n",
       "14    spotify:artist:4S9EykWXhStSc15wEx8QFK          Céline Dion   \n",
       "6341  spotify:artist:2hlmm7s2ICUX0LVIhVFlZQ                Gunna   \n",
       "8613  spotify:artist:6vWDO969PvNqNYHIOW5v0m              Beyoncé   \n",
       "5270  spotify:artist:1gPhS1zisyXr5dHTYZyiMe          Kevin Gates   \n",
       "4997  spotify:artist:6LuN9FCkKOj5PcnpouEgny               Khalid   \n",
       "\n",
       "     Album Release Date                                    Album Image URL  \\\n",
       "14           2023-05-12  https://i.scdn.co/image/ab67616d0000b2734c3fe9...   \n",
       "6341         2020-05-22  https://i.scdn.co/image/ab67616d0000b2730c44c5...   \n",
       "8613         2024-03-29  https://i.scdn.co/image/ab67616d0000b273157269...   \n",
       "5270         2018-05-16  https://i.scdn.co/image/ab67616d0000b273b6e97a...   \n",
       "4997         2017-04-27  https://i.scdn.co/image/ab67616d0000b273988ede...   \n",
       "\n",
       "      ...  Acousticness  Instrumentalness  Liveness Valence    Tempo  \\\n",
       "14    ...       0.07560          0.000000    0.1140   0.535  186.026   \n",
       "6341  ...       0.00353          0.000000    0.1020   0.580  111.971   \n",
       "8613  ...       0.47600          0.000000    0.0996   0.333   94.522   \n",
       "5270  ...       0.12900          0.000000    0.0952   0.513  130.195   \n",
       "4997  ...       0.19900          0.000017    0.1650   0.394  136.948   \n",
       "\n",
       "      Time Signature Album Genres                                    Label  \\\n",
       "14               4.0          NaN                                 Columbia   \n",
       "6341             4.0          NaN                        300 Entertainment   \n",
       "8613             3.0          NaN          Parkwood Entertainment/Columbia   \n",
       "5270             4.0          NaN               Bread Winners' Association   \n",
       "4997             4.0          NaN  Right Hand Music Group, LLC/RCA Records   \n",
       "\n",
       "                                             Copyrights       source_playlist  \n",
       "14    P Compilation (P) 2023 Sony Music Entertainmen...   billboard_100_1.csv  \n",
       "6341  C © 2020 Young Stoner Life Records / 300 Enter...  billboard_100_62.csv  \n",
       "8613  P (P) 2024 Parkwood Entertainment LLC, under e...  billboard_100_81.csv  \n",
       "5270  C © 2018 Bread Winners' Association, P ℗ 2018 ...  billboard_100_53.csv  \n",
       "4997  P (P) 2017 RCA Records, a division of Sony Mus...  billboard_100_50.csv  \n",
       "\n",
       "[5 rows x 36 columns]"
      ]
     },
     "execution_count": 7,
     "metadata": {},
     "output_type": "execute_result"
    }
   ],
   "source": [
    "features_data.sample(5)"
   ]
  },
  {
   "cell_type": "code",
   "execution_count": 8,
   "id": "d6e54e0a",
   "metadata": {},
   "outputs": [
    {
     "data": {
      "text/plain": [
       "ISRC                   0\n",
       "Added By               0\n",
       "Added At               0\n",
       "Artist Genres       3433\n",
       "Danceability           2\n",
       "Energy                 2\n",
       "Key                    2\n",
       "Loudness               2\n",
       "Mode                   2\n",
       "Speechiness            2\n",
       "Acousticness           2\n",
       "Instrumentalness       2\n",
       "Liveness               2\n",
       "Valence                2\n",
       "Tempo                  2\n",
       "Time Signature         2\n",
       "Album Genres        9300\n",
       "Label                  0\n",
       "Copyrights             2\n",
       "source_playlist        0\n",
       "dtype: int64"
      ]
     },
     "execution_count": 8,
     "metadata": {},
     "output_type": "execute_result"
    }
   ],
   "source": [
    "features_data.isna().sum()[-20:]"
   ]
  },
  {
   "cell_type": "code",
   "execution_count": 9,
   "id": "1c529b64",
   "metadata": {},
   "outputs": [
    {
     "data": {
      "text/plain": [
       "Index(['uri', 'Track Name', 'Artist URI(s)', 'Artist Name(s)', 'Album URI',\n",
       "       'Album Name', 'Album Artist URI(s)', 'Album Artist Name(s)',\n",
       "       'Album Release Date', 'Album Image URL', 'Disc Number', 'Track Number',\n",
       "       'Track Duration (ms)', 'Track Preview URL', 'Explicit', 'Popularity',\n",
       "       'ISRC', 'Added By', 'Added At', 'Artist Genres', 'Danceability',\n",
       "       'Energy', 'Key', 'Loudness', 'Mode', 'Speechiness', 'Acousticness',\n",
       "       'Instrumentalness', 'Liveness', 'Valence', 'Tempo', 'Time Signature',\n",
       "       'Album Genres', 'Label', 'Copyrights', 'source_playlist'],\n",
       "      dtype='object')"
      ]
     },
     "execution_count": 9,
     "metadata": {},
     "output_type": "execute_result"
    }
   ],
   "source": [
    "features_data.columns"
   ]
  },
  {
   "cell_type": "code",
   "execution_count": 10,
   "id": "38027711",
   "metadata": {},
   "outputs": [],
   "source": [
    "features_data.drop(features_data.columns[34:],axis=1, inplace=True)"
   ]
  },
  {
   "cell_type": "code",
   "execution_count": 11,
   "id": "057f26f4",
   "metadata": {},
   "outputs": [],
   "source": [
    "features_data[\"Artist Genres\"] = features_data[\"Artist Genres\"].str.split(\",\").str[0].str.title()"
   ]
  },
  {
   "cell_type": "code",
   "execution_count": 12,
   "id": "5fed3f69",
   "metadata": {},
   "outputs": [
    {
     "data": {
      "text/plain": [
       "Artist Genres\n",
       "Hip Hop               109\n",
       "K-Pop                  85\n",
       "East Coast Hip Hop     65\n",
       "Pop Punk               64\n",
       "Neo Soul               62\n",
       "Nu Metal               62\n",
       "Drill                  61\n",
       "Edm                    59\n",
       "Emo                    56\n",
       "Rage Rap               54\n",
       "Name: count, dtype: int64"
      ]
     },
     "execution_count": 12,
     "metadata": {},
     "output_type": "execute_result"
    }
   ],
   "source": [
    "features_data[\"Artist Genres\"].value_counts()[10:20]"
   ]
  },
  {
   "cell_type": "code",
   "execution_count": 13,
   "id": "6a062a02",
   "metadata": {},
   "outputs": [
    {
     "data": {
      "text/plain": [
       "Index(['uri', 'Track Name', 'Artist URI(s)', 'Artist Name(s)', 'Album URI',\n",
       "       'Album Name', 'Album Artist URI(s)', 'Album Artist Name(s)',\n",
       "       'Album Release Date', 'Album Image URL', 'Disc Number', 'Track Number',\n",
       "       'Track Duration (ms)', 'Track Preview URL', 'Explicit', 'Popularity',\n",
       "       'ISRC', 'Added By', 'Added At', 'Artist Genres', 'Danceability',\n",
       "       'Energy', 'Key', 'Loudness', 'Mode', 'Speechiness', 'Acousticness',\n",
       "       'Instrumentalness', 'Liveness', 'Valence', 'Tempo', 'Time Signature',\n",
       "       'Album Genres', 'Label'],\n",
       "      dtype='object')"
      ]
     },
     "execution_count": 13,
     "metadata": {},
     "output_type": "execute_result"
    }
   ],
   "source": [
    "features_data.columns"
   ]
  },
  {
   "cell_type": "code",
   "execution_count": 14,
   "id": "730fb05c",
   "metadata": {},
   "outputs": [
    {
     "data": {
      "text/plain": [
       "Label\n",
       "South Coast Music Group/Interscope Records         21\n",
       "Sony Music Entertainment                           21\n",
       "Craft Recordings                                   20\n",
       "Getting Out Our Dreams, Inc./Def Jam Recordings    20\n",
       "Rimas Entertainment LLC.                           20\n",
       "                                                   ..\n",
       "Artemas                                             1\n",
       "Geffen/Interscope Records                           1\n",
       "BELIFT LAB                                          1\n",
       "Artist Partner Group                                1\n",
       "United States Air Force Bands                       1\n",
       "Name: count, Length: 1075, dtype: int64"
      ]
     },
     "execution_count": 14,
     "metadata": {},
     "output_type": "execute_result"
    }
   ],
   "source": [
    "features_data[\"Label\"].value_counts()[90:]"
   ]
  },
  {
   "cell_type": "code",
   "execution_count": 15,
   "id": "4ca57d80",
   "metadata": {},
   "outputs": [
    {
     "data": {
      "text/plain": [
       "Series([], Name: count, dtype: int64)"
      ]
     },
     "execution_count": 15,
     "metadata": {},
     "output_type": "execute_result"
    }
   ],
   "source": [
    "features_data[\"Album Genres\"].value_counts()"
   ]
  },
  {
   "cell_type": "code",
   "execution_count": 16,
   "id": "eb8aa366",
   "metadata": {},
   "outputs": [],
   "source": [
    "features_data.drop(columns=[\"Album Genres\", \"Album Image URL\", \"Track Preview URL\", \"Disc Number\", \"Album URI\", \"Artist URI(s)\", \"Added At\", \"Added By\", \"uri\", \"Track Number\", \"Album Artist URI(s)\", \"Album Artist Name(s)\", \"ISRC\"], inplace=True)"
   ]
  },
  {
   "cell_type": "code",
   "execution_count": 17,
   "id": "6fbbc487",
   "metadata": {},
   "outputs": [
    {
     "data": {
      "text/html": [
       "<div>\n",
       "<style scoped>\n",
       "    .dataframe tbody tr th:only-of-type {\n",
       "        vertical-align: middle;\n",
       "    }\n",
       "\n",
       "    .dataframe tbody tr th {\n",
       "        vertical-align: top;\n",
       "    }\n",
       "\n",
       "    .dataframe thead th {\n",
       "        text-align: right;\n",
       "    }\n",
       "</style>\n",
       "<table border=\"1\" class=\"dataframe\">\n",
       "  <thead>\n",
       "    <tr style=\"text-align: right;\">\n",
       "      <th></th>\n",
       "      <th>Track Name</th>\n",
       "      <th>Artist Name(s)</th>\n",
       "      <th>Album Name</th>\n",
       "      <th>Album Release Date</th>\n",
       "      <th>Track Duration (ms)</th>\n",
       "      <th>Explicit</th>\n",
       "      <th>Popularity</th>\n",
       "      <th>Artist Genres</th>\n",
       "      <th>Danceability</th>\n",
       "      <th>Energy</th>\n",
       "      <th>...</th>\n",
       "      <th>Loudness</th>\n",
       "      <th>Mode</th>\n",
       "      <th>Speechiness</th>\n",
       "      <th>Acousticness</th>\n",
       "      <th>Instrumentalness</th>\n",
       "      <th>Liveness</th>\n",
       "      <th>Valence</th>\n",
       "      <th>Tempo</th>\n",
       "      <th>Time Signature</th>\n",
       "      <th>Label</th>\n",
       "    </tr>\n",
       "  </thead>\n",
       "  <tbody>\n",
       "    <tr>\n",
       "      <th>2711</th>\n",
       "      <td>Blame It (On The Alcohol) (Glee Cast Version)</td>\n",
       "      <td>Glee Cast</td>\n",
       "      <td>Glee: The Music, The Complete Season Two</td>\n",
       "      <td>2012-08-28</td>\n",
       "      <td>199040</td>\n",
       "      <td>False</td>\n",
       "      <td>47</td>\n",
       "      <td>Christmas</td>\n",
       "      <td>0.654</td>\n",
       "      <td>0.605</td>\n",
       "      <td>...</td>\n",
       "      <td>-4.922</td>\n",
       "      <td>1.0</td>\n",
       "      <td>0.0813</td>\n",
       "      <td>0.00842</td>\n",
       "      <td>0.000000</td>\n",
       "      <td>0.1100</td>\n",
       "      <td>0.704</td>\n",
       "      <td>176.003</td>\n",
       "      <td>4.0</td>\n",
       "      <td>Columbia</td>\n",
       "    </tr>\n",
       "    <tr>\n",
       "      <th>9146</th>\n",
       "      <td>TOXIC (with Skepta)</td>\n",
       "      <td>Playboi Carti, Skepta</td>\n",
       "      <td>MUSIC</td>\n",
       "      <td>2025-03-14</td>\n",
       "      <td>135275</td>\n",
       "      <td>True</td>\n",
       "      <td>79</td>\n",
       "      <td>Rage Rap</td>\n",
       "      <td>0.855</td>\n",
       "      <td>0.640</td>\n",
       "      <td>...</td>\n",
       "      <td>-5.936</td>\n",
       "      <td>1.0</td>\n",
       "      <td>0.2040</td>\n",
       "      <td>0.00418</td>\n",
       "      <td>0.000002</td>\n",
       "      <td>0.0948</td>\n",
       "      <td>0.432</td>\n",
       "      <td>142.000</td>\n",
       "      <td>4.0</td>\n",
       "      <td>AWGE/Interscope Records</td>\n",
       "    </tr>\n",
       "    <tr>\n",
       "      <th>3150</th>\n",
       "      <td>Snap Backs &amp; Tattoos</td>\n",
       "      <td>Driicky Graham</td>\n",
       "      <td>Snap Backs &amp; Tattoos</td>\n",
       "      <td>2012-03-20</td>\n",
       "      <td>209840</td>\n",
       "      <td>True</td>\n",
       "      <td>42</td>\n",
       "      <td>NaN</td>\n",
       "      <td>0.855</td>\n",
       "      <td>0.694</td>\n",
       "      <td>...</td>\n",
       "      <td>-3.797</td>\n",
       "      <td>0.0</td>\n",
       "      <td>0.2960</td>\n",
       "      <td>0.12400</td>\n",
       "      <td>0.000000</td>\n",
       "      <td>0.0955</td>\n",
       "      <td>0.538</td>\n",
       "      <td>139.868</td>\n",
       "      <td>4.0</td>\n",
       "      <td>eOne Music</td>\n",
       "    </tr>\n",
       "    <tr>\n",
       "      <th>92</th>\n",
       "      <td>Tricky, Tricky</td>\n",
       "      <td>Lou Bega</td>\n",
       "      <td>A Little Bit of Mambo</td>\n",
       "      <td>1999-07-19</td>\n",
       "      <td>203133</td>\n",
       "      <td>False</td>\n",
       "      <td>34</td>\n",
       "      <td>NaN</td>\n",
       "      <td>0.858</td>\n",
       "      <td>0.947</td>\n",
       "      <td>...</td>\n",
       "      <td>-3.557</td>\n",
       "      <td>1.0</td>\n",
       "      <td>0.2350</td>\n",
       "      <td>0.12500</td>\n",
       "      <td>0.000000</td>\n",
       "      <td>0.0367</td>\n",
       "      <td>0.967</td>\n",
       "      <td>151.037</td>\n",
       "      <td>4.0</td>\n",
       "      <td>Sony Music/Vorsicht Musik</td>\n",
       "    </tr>\n",
       "    <tr>\n",
       "      <th>2176</th>\n",
       "      <td>Over My Dead Body</td>\n",
       "      <td>Drake</td>\n",
       "      <td>Take Care (Deluxe)</td>\n",
       "      <td>2011-11-15</td>\n",
       "      <td>272573</td>\n",
       "      <td>True</td>\n",
       "      <td>75</td>\n",
       "      <td>Rap</td>\n",
       "      <td>0.489</td>\n",
       "      <td>0.570</td>\n",
       "      <td>...</td>\n",
       "      <td>-10.291</td>\n",
       "      <td>1.0</td>\n",
       "      <td>0.3060</td>\n",
       "      <td>0.75900</td>\n",
       "      <td>0.000002</td>\n",
       "      <td>0.1790</td>\n",
       "      <td>0.584</td>\n",
       "      <td>185.516</td>\n",
       "      <td>4.0</td>\n",
       "      <td>Cash Money Records/Young Money Ent./Universal ...</td>\n",
       "    </tr>\n",
       "  </tbody>\n",
       "</table>\n",
       "<p>5 rows × 21 columns</p>\n",
       "</div>"
      ],
      "text/plain": [
       "                                         Track Name         Artist Name(s)  \\\n",
       "2711  Blame It (On The Alcohol) (Glee Cast Version)              Glee Cast   \n",
       "9146                            TOXIC (with Skepta)  Playboi Carti, Skepta   \n",
       "3150                           Snap Backs & Tattoos         Driicky Graham   \n",
       "92                                   Tricky, Tricky               Lou Bega   \n",
       "2176                              Over My Dead Body                  Drake   \n",
       "\n",
       "                                    Album Name Album Release Date  \\\n",
       "2711  Glee: The Music, The Complete Season Two         2012-08-28   \n",
       "9146                                     MUSIC         2025-03-14   \n",
       "3150                      Snap Backs & Tattoos         2012-03-20   \n",
       "92                       A Little Bit of Mambo         1999-07-19   \n",
       "2176                        Take Care (Deluxe)         2011-11-15   \n",
       "\n",
       "      Track Duration (ms)  Explicit  Popularity Artist Genres  Danceability  \\\n",
       "2711               199040     False          47     Christmas         0.654   \n",
       "9146               135275      True          79      Rage Rap         0.855   \n",
       "3150               209840      True          42           NaN         0.855   \n",
       "92                 203133     False          34           NaN         0.858   \n",
       "2176               272573      True          75           Rap         0.489   \n",
       "\n",
       "      Energy  ...  Loudness  Mode  Speechiness  Acousticness  \\\n",
       "2711   0.605  ...    -4.922   1.0       0.0813       0.00842   \n",
       "9146   0.640  ...    -5.936   1.0       0.2040       0.00418   \n",
       "3150   0.694  ...    -3.797   0.0       0.2960       0.12400   \n",
       "92     0.947  ...    -3.557   1.0       0.2350       0.12500   \n",
       "2176   0.570  ...   -10.291   1.0       0.3060       0.75900   \n",
       "\n",
       "      Instrumentalness  Liveness  Valence    Tempo  Time Signature  \\\n",
       "2711          0.000000    0.1100    0.704  176.003             4.0   \n",
       "9146          0.000002    0.0948    0.432  142.000             4.0   \n",
       "3150          0.000000    0.0955    0.538  139.868             4.0   \n",
       "92            0.000000    0.0367    0.967  151.037             4.0   \n",
       "2176          0.000002    0.1790    0.584  185.516             4.0   \n",
       "\n",
       "                                                  Label  \n",
       "2711                                           Columbia  \n",
       "9146                            AWGE/Interscope Records  \n",
       "3150                                         eOne Music  \n",
       "92                            Sony Music/Vorsicht Musik  \n",
       "2176  Cash Money Records/Young Money Ent./Universal ...  \n",
       "\n",
       "[5 rows x 21 columns]"
      ]
     },
     "execution_count": 17,
     "metadata": {},
     "output_type": "execute_result"
    }
   ],
   "source": [
    "features_data.sample(5)"
   ]
  },
  {
   "cell_type": "code",
   "execution_count": 18,
   "id": "0e606387",
   "metadata": {},
   "outputs": [],
   "source": [
    "features_data.dropna(how=\"all\", inplace=True)"
   ]
  },
  {
   "cell_type": "code",
   "execution_count": 19,
   "id": "570dc0bc",
   "metadata": {},
   "outputs": [],
   "source": [
    "billboard_data = pd.read_csv(\"../data/raw/Billboard_100_data.csv\")"
   ]
  },
  {
   "cell_type": "code",
   "execution_count": 20,
   "id": "0a9d7b34",
   "metadata": {},
   "outputs": [
    {
     "data": {
      "text/html": [
       "<div>\n",
       "<style scoped>\n",
       "    .dataframe tbody tr th:only-of-type {\n",
       "        vertical-align: middle;\n",
       "    }\n",
       "\n",
       "    .dataframe tbody tr th {\n",
       "        vertical-align: top;\n",
       "    }\n",
       "\n",
       "    .dataframe thead th {\n",
       "        text-align: right;\n",
       "    }\n",
       "</style>\n",
       "<table border=\"1\" class=\"dataframe\">\n",
       "  <thead>\n",
       "    <tr style=\"text-align: right;\">\n",
       "      <th></th>\n",
       "      <th>date</th>\n",
       "      <th>song_name</th>\n",
       "      <th>artist</th>\n",
       "      <th>weeks_rank</th>\n",
       "      <th>last_weeks_rank</th>\n",
       "      <th>weeks_on_chart</th>\n",
       "    </tr>\n",
       "  </thead>\n",
       "  <tbody>\n",
       "    <tr>\n",
       "      <th>85044</th>\n",
       "      <td>2016-04-17</td>\n",
       "      <td>Summer Sixteen</td>\n",
       "      <td>Drake</td>\n",
       "      <td>45</td>\n",
       "      <td>36.0</td>\n",
       "      <td>10</td>\n",
       "    </tr>\n",
       "    <tr>\n",
       "      <th>4222</th>\n",
       "      <td>2000-10-22</td>\n",
       "      <td>No More</td>\n",
       "      <td>Ruff Endz</td>\n",
       "      <td>23</td>\n",
       "      <td>19.0</td>\n",
       "      <td>18</td>\n",
       "    </tr>\n",
       "    <tr>\n",
       "      <th>60208</th>\n",
       "      <td>2011-07-17</td>\n",
       "      <td>Tonight Tonight</td>\n",
       "      <td>Hot Chelle Rae</td>\n",
       "      <td>9</td>\n",
       "      <td>10.0</td>\n",
       "      <td>13</td>\n",
       "    </tr>\n",
       "    <tr>\n",
       "      <th>129800</th>\n",
       "      <td>2024-11-17</td>\n",
       "      <td>A Bar Song (Tipsy)</td>\n",
       "      <td>Shaboozey</td>\n",
       "      <td>1</td>\n",
       "      <td>1.0</td>\n",
       "      <td>31</td>\n",
       "    </tr>\n",
       "    <tr>\n",
       "      <th>3636</th>\n",
       "      <td>2000-09-10</td>\n",
       "      <td>What About Now</td>\n",
       "      <td>Lonestar</td>\n",
       "      <td>37</td>\n",
       "      <td>36.0</td>\n",
       "      <td>15</td>\n",
       "    </tr>\n",
       "  </tbody>\n",
       "</table>\n",
       "</div>"
      ],
      "text/plain": [
       "              date           song_name          artist  weeks_rank  \\\n",
       "85044   2016-04-17      Summer Sixteen           Drake          45   \n",
       "4222    2000-10-22             No More       Ruff Endz          23   \n",
       "60208   2011-07-17     Tonight Tonight  Hot Chelle Rae           9   \n",
       "129800  2024-11-17  A Bar Song (Tipsy)       Shaboozey           1   \n",
       "3636    2000-09-10      What About Now        Lonestar          37   \n",
       "\n",
       "        last_weeks_rank  weeks_on_chart  \n",
       "85044              36.0              10  \n",
       "4222               19.0              18  \n",
       "60208              10.0              13  \n",
       "129800              1.0              31  \n",
       "3636               36.0              15  "
      ]
     },
     "execution_count": 20,
     "metadata": {},
     "output_type": "execute_result"
    }
   ],
   "source": [
    "billboard_data.sample(5)"
   ]
  },
  {
   "cell_type": "code",
   "execution_count": null,
   "id": "927c7ed9",
   "metadata": {},
   "outputs": [],
   "source": [
    "import re\n",
    "def clean_string(text):\n",
    "    text = str(text).lower()\n",
    "    text = re.sub(r\"\\(.*?\\)\", \"\", text) \n",
    "    text = re.sub(r\"[^a-z0-9\\s]\", \"\", text)\n",
    "    return text.strip()"
   ]
  },
  {
   "cell_type": "code",
   "execution_count": 22,
   "id": "34869bfb",
   "metadata": {},
   "outputs": [],
   "source": [
    "billboard_data[\"song_clean\"] = billboard_data[\"song_name\"].apply(clean_string)\n",
    "billboard_data[\"artist_clean\"] = billboard_data[\"artist\"].apply(clean_string)\n",
    "\n",
    "features_data[\"song_clean\"] = features_data[\"Track Name\"].apply(clean_string)\n",
    "features_data[\"artist_clean\"] = features_data[\"Artist Name(s)\"].apply(clean_string)"
   ]
  },
  {
   "cell_type": "code",
   "execution_count": 23,
   "id": "650748ad",
   "metadata": {},
   "outputs": [
    {
     "data": {
      "text/plain": [
       "np.int64(0)"
      ]
     },
     "execution_count": 23,
     "metadata": {},
     "output_type": "execute_result"
    }
   ],
   "source": [
    "features_data[\"artist_clean\"].isna().sum()"
   ]
  },
  {
   "cell_type": "code",
   "execution_count": 24,
   "id": "796e8d1f",
   "metadata": {},
   "outputs": [],
   "source": [
    "from rapidfuzz import fuzz\n",
    "def fuzzy_match(song_name, spotify_name, artist_name, spotify_artist, threshold=85):\n",
    "    \n",
    "    if not song_name or not spotify_name or not artist_name or not spotify_artist:\n",
    "        return False\n",
    "    \n",
    "    song_match_score = fuzz.ratio(song_name, spotify_name)\n",
    "    artist_match_score = fuzz.ratio(artist_name, spotify_artist)\n",
    "    \n",
    "    avg_score = (song_match_score + artist_match_score) / 2\n",
    "    \n",
    "    return avg_score >= threshold"
   ]
  },
  {
   "cell_type": "code",
   "execution_count": 22,
   "id": "8a80e054",
   "metadata": {},
   "outputs": [
    {
     "data": {
      "text/html": [
       "<div>\n",
       "<style scoped>\n",
       "    .dataframe tbody tr th:only-of-type {\n",
       "        vertical-align: middle;\n",
       "    }\n",
       "\n",
       "    .dataframe tbody tr th {\n",
       "        vertical-align: top;\n",
       "    }\n",
       "\n",
       "    .dataframe thead th {\n",
       "        text-align: right;\n",
       "    }\n",
       "</style>\n",
       "<table border=\"1\" class=\"dataframe\">\n",
       "  <thead>\n",
       "    <tr style=\"text-align: right;\">\n",
       "      <th></th>\n",
       "      <th>date</th>\n",
       "      <th>song_name</th>\n",
       "      <th>artist</th>\n",
       "      <th>weeks_rank</th>\n",
       "      <th>last_weeks_rank</th>\n",
       "      <th>weeks_on_chart</th>\n",
       "      <th>song_clean</th>\n",
       "      <th>artist_clean</th>\n",
       "    </tr>\n",
       "  </thead>\n",
       "  <tbody>\n",
       "    <tr>\n",
       "      <th>7997</th>\n",
       "      <td>2001-07-08</td>\n",
       "      <td>Miss California</td>\n",
       "      <td>Dante Thomas Featuring Pras</td>\n",
       "      <td>98</td>\n",
       "      <td>NaN</td>\n",
       "      <td>1</td>\n",
       "      <td>miss california</td>\n",
       "      <td>dante thomas featuring pras</td>\n",
       "    </tr>\n",
       "    <tr>\n",
       "      <th>1010</th>\n",
       "      <td>2000-03-12</td>\n",
       "      <td>All The Small Things</td>\n",
       "      <td>blink-182</td>\n",
       "      <td>11</td>\n",
       "      <td>9.0</td>\n",
       "      <td>16</td>\n",
       "      <td>all the small things</td>\n",
       "      <td>blink182</td>\n",
       "    </tr>\n",
       "    <tr>\n",
       "      <th>106949</th>\n",
       "      <td>2020-06-28</td>\n",
       "      <td>Gooba</td>\n",
       "      <td>6ix9ine</td>\n",
       "      <td>50</td>\n",
       "      <td>36.0</td>\n",
       "      <td>7</td>\n",
       "      <td>gooba</td>\n",
       "      <td>6ix9ine</td>\n",
       "    </tr>\n",
       "    <tr>\n",
       "      <th>35131</th>\n",
       "      <td>2006-09-24</td>\n",
       "      <td>Move Along</td>\n",
       "      <td>The All-American Rejects</td>\n",
       "      <td>32</td>\n",
       "      <td>28.0</td>\n",
       "      <td>34</td>\n",
       "      <td>move along</td>\n",
       "      <td>the allamerican rejects</td>\n",
       "    </tr>\n",
       "    <tr>\n",
       "      <th>33939</th>\n",
       "      <td>2006-07-02</td>\n",
       "      <td>When The Stars Go Blue</td>\n",
       "      <td>Tim McGraw</td>\n",
       "      <td>40</td>\n",
       "      <td>39.0</td>\n",
       "      <td>13</td>\n",
       "      <td>when the stars go blue</td>\n",
       "      <td>tim mcgraw</td>\n",
       "    </tr>\n",
       "  </tbody>\n",
       "</table>\n",
       "</div>"
      ],
      "text/plain": [
       "              date               song_name                       artist  \\\n",
       "7997    2001-07-08         Miss California  Dante Thomas Featuring Pras   \n",
       "1010    2000-03-12    All The Small Things                    blink-182   \n",
       "106949  2020-06-28                   Gooba                      6ix9ine   \n",
       "35131   2006-09-24              Move Along     The All-American Rejects   \n",
       "33939   2006-07-02  When The Stars Go Blue                   Tim McGraw   \n",
       "\n",
       "        weeks_rank  last_weeks_rank  weeks_on_chart              song_clean  \\\n",
       "7997            98              NaN               1         miss california   \n",
       "1010            11              9.0              16    all the small things   \n",
       "106949          50             36.0               7                   gooba   \n",
       "35131           32             28.0              34              move along   \n",
       "33939           40             39.0              13  when the stars go blue   \n",
       "\n",
       "                       artist_clean  \n",
       "7997    dante thomas featuring pras  \n",
       "1010                       blink182  \n",
       "106949                      6ix9ine  \n",
       "35131       the allamerican rejects  \n",
       "33939                    tim mcgraw  "
      ]
     },
     "execution_count": 22,
     "metadata": {},
     "output_type": "execute_result"
    }
   ],
   "source": [
    "billboard_data.sample(5)"
   ]
  },
  {
   "cell_type": "code",
   "execution_count": 23,
   "id": "c7524cc4",
   "metadata": {},
   "outputs": [],
   "source": [
    "unique_songs = billboard_data[[\"song_clean\", \"artist_clean\"]].drop_duplicates()"
   ]
  },
  {
   "cell_type": "code",
   "execution_count": 24,
   "id": "fac6663d",
   "metadata": {},
   "outputs": [
    {
     "data": {
      "text/plain": [
       "(132400, 8)"
      ]
     },
     "execution_count": 24,
     "metadata": {},
     "output_type": "execute_result"
    }
   ],
   "source": [
    "billboard_data.shape"
   ]
  },
  {
   "cell_type": "code",
   "execution_count": 25,
   "id": "55197e7e",
   "metadata": {},
   "outputs": [
    {
     "data": {
      "text/plain": [
       "(11346, 2)"
      ]
     },
     "execution_count": 25,
     "metadata": {},
     "output_type": "execute_result"
    }
   ],
   "source": [
    "unique_songs.shape"
   ]
  },
  {
   "cell_type": "code",
   "execution_count": null,
   "id": "55fe658e",
   "metadata": {},
   "outputs": [],
   "source": [
    "from rapidfuzz import process\n",
    "\n",
    "# Combine song + artist into a fuzzy key\n",
    "unique_songs[\"lookup_key\"] = unique_songs[\"song_clean\"].str.lower() + \" - \" + unique_songs[\"artist_clean\"].str.lower()\n",
    "lookup_keys = unique_songs[\"lookup_key\"].tolist()\n"
   ]
  },
  {
   "cell_type": "code",
   "execution_count": 27,
   "id": "4d50cd7a",
   "metadata": {},
   "outputs": [
    {
     "name": "stderr",
     "output_type": "stream",
     "text": [
      "9300it [08:49, 17.58it/s] \n"
     ]
    }
   ],
   "source": [
    "for i, row in tqdm(features_data.iterrows()):\n",
    "    search_key = f\"{row['song_clean'].lower()} - {row['artist_clean'].lower()}\"\n",
    "    \n",
    "    result = process.extractOne(\n",
    "        query=search_key,\n",
    "        choices=lookup_keys,\n",
    "        scorer=fuzz.token_set_ratio,\n",
    "        score_cutoff=85\n",
    "    )\n",
    "\n",
    "    if result:\n",
    "        \n",
    "        match, score, idx = result\n",
    "        # Get the original billboard row\n",
    "        matched_row = unique_songs.iloc[idx]\n",
    "        features_data.at[i, \"song_clean\"] = matched_row[\"song_clean\"]\n",
    "        features_data.at[i, \"artist_clean\"] = matched_row[\"artist_clean\"]\n"
   ]
  },
  {
   "cell_type": "code",
   "execution_count": 28,
   "id": "841d14eb",
   "metadata": {},
   "outputs": [],
   "source": [
    "features_data.to_csv(\"../data/processed/cleaned_exportify_data.csv\", index=False)"
   ]
  },
  {
   "cell_type": "code",
   "execution_count": 25,
   "id": "1215c581",
   "metadata": {},
   "outputs": [],
   "source": [
    "merged_df = pd.merge(billboard_data, features_data, on=[\"song_clean\", \"artist_clean\"], how=\"left\")"
   ]
  },
  {
   "cell_type": "code",
   "execution_count": 26,
   "id": "9e2cbe9b",
   "metadata": {},
   "outputs": [
    {
     "data": {
      "text/plain": [
       "date                       0\n",
       "song_name                  0\n",
       "artist                     0\n",
       "weeks_rank                 0\n",
       "last_weeks_rank        14043\n",
       "weeks_on_chart             0\n",
       "song_clean                 0\n",
       "artist_clean               0\n",
       "Track Name             47347\n",
       "Artist Name(s)         47347\n",
       "Album Name             47347\n",
       "Album Release Date     47347\n",
       "Track Duration (ms)    47347\n",
       "Explicit               47347\n",
       "Popularity             47347\n",
       "Artist Genres          79509\n",
       "Danceability           47347\n",
       "Energy                 47347\n",
       "Key                    47347\n",
       "Loudness               47347\n",
       "Mode                   47347\n",
       "Speechiness            47347\n",
       "Acousticness           47347\n",
       "Instrumentalness       47347\n",
       "Liveness               47347\n",
       "Valence                47347\n",
       "Tempo                  47347\n",
       "Time Signature         47347\n",
       "Label                  47347\n",
       "dtype: int64"
      ]
     },
     "execution_count": 26,
     "metadata": {},
     "output_type": "execute_result"
    }
   ],
   "source": [
    "merged_df.isna().sum()"
   ]
  },
  {
   "cell_type": "code",
   "execution_count": 27,
   "id": "f6f96bba",
   "metadata": {},
   "outputs": [],
   "source": [
    "unmatched = merged_df.loc[merged_df[\"Track Name\"].isna()]\n",
    "unmatched_rows = unmatched[[\"song_clean\", \"artist_clean\"]].drop_duplicates()"
   ]
  },
  {
   "cell_type": "code",
   "execution_count": null,
   "id": "623b8012",
   "metadata": {},
   "outputs": [],
   "source": [
    "unmatched_rows[\"artist w/o featuring\"] = unmatched_rows[\"artist_clean\"].str.replace(\"featuring\", \"feat\")\n"
   ]
  },
  {
   "cell_type": "code",
   "execution_count": 30,
   "id": "e7d83eba",
   "metadata": {},
   "outputs": [
    {
     "data": {
      "text/html": [
       "<div>\n",
       "<style scoped>\n",
       "    .dataframe tbody tr th:only-of-type {\n",
       "        vertical-align: middle;\n",
       "    }\n",
       "\n",
       "    .dataframe tbody tr th {\n",
       "        vertical-align: top;\n",
       "    }\n",
       "\n",
       "    .dataframe thead th {\n",
       "        text-align: right;\n",
       "    }\n",
       "</style>\n",
       "<table border=\"1\" class=\"dataframe\">\n",
       "  <thead>\n",
       "    <tr style=\"text-align: right;\">\n",
       "      <th></th>\n",
       "      <th>song_clean</th>\n",
       "      <th>artist_clean</th>\n",
       "      <th>artist w/o featuring</th>\n",
       "      <th>artist first name</th>\n",
       "    </tr>\n",
       "  </thead>\n",
       "  <tbody>\n",
       "    <tr>\n",
       "      <th>113833</th>\n",
       "      <td>get ready</td>\n",
       "      <td>rod wave featuring kodak black</td>\n",
       "      <td>rod wave feat kodak black</td>\n",
       "      <td>rod</td>\n",
       "    </tr>\n",
       "    <tr>\n",
       "      <th>4298</th>\n",
       "      <td>tocas miracle</td>\n",
       "      <td>fragma</td>\n",
       "      <td>fragma</td>\n",
       "      <td>fragma</td>\n",
       "    </tr>\n",
       "    <tr>\n",
       "      <th>10398</th>\n",
       "      <td>god bless america</td>\n",
       "      <td>daniel rodriguez</td>\n",
       "      <td>daniel rodriguez</td>\n",
       "      <td>daniel</td>\n",
       "    </tr>\n",
       "    <tr>\n",
       "      <th>35479</th>\n",
       "      <td>shortie like mine</td>\n",
       "      <td>bow wow featuring chris brown  johnta austin</td>\n",
       "      <td>bow wow feat chris brown  johnta austin</td>\n",
       "      <td>bow</td>\n",
       "    </tr>\n",
       "    <tr>\n",
       "      <th>131498</th>\n",
       "      <td>velda</td>\n",
       "      <td>bad bunny omar courtz  dei v</td>\n",
       "      <td>bad bunny omar courtz  dei v</td>\n",
       "      <td>bad</td>\n",
       "    </tr>\n",
       "  </tbody>\n",
       "</table>\n",
       "</div>"
      ],
      "text/plain": [
       "               song_clean                                  artist_clean  \\\n",
       "113833          get ready                rod wave featuring kodak black   \n",
       "4298        tocas miracle                                        fragma   \n",
       "10398   god bless america                              daniel rodriguez   \n",
       "35479   shortie like mine  bow wow featuring chris brown  johnta austin   \n",
       "131498              velda                  bad bunny omar courtz  dei v   \n",
       "\n",
       "                           artist w/o featuring artist first name  \n",
       "113833                rod wave feat kodak black               rod  \n",
       "4298                                     fragma            fragma  \n",
       "10398                          daniel rodriguez            daniel  \n",
       "35479   bow wow feat chris brown  johnta austin               bow  \n",
       "131498             bad bunny omar courtz  dei v               bad  "
      ]
     },
     "execution_count": 30,
     "metadata": {},
     "output_type": "execute_result"
    }
   ],
   "source": [
    "unmatched_rows.sample(5)"
   ]
  },
  {
   "cell_type": "code",
   "execution_count": 33,
   "id": "525f6c87",
   "metadata": {},
   "outputs": [
    {
     "data": {
      "text/html": [
       "<div>\n",
       "<style scoped>\n",
       "    .dataframe tbody tr th:only-of-type {\n",
       "        vertical-align: middle;\n",
       "    }\n",
       "\n",
       "    .dataframe tbody tr th {\n",
       "        vertical-align: top;\n",
       "    }\n",
       "\n",
       "    .dataframe thead th {\n",
       "        text-align: right;\n",
       "    }\n",
       "</style>\n",
       "<table border=\"1\" class=\"dataframe\">\n",
       "  <thead>\n",
       "    <tr style=\"text-align: right;\">\n",
       "      <th></th>\n",
       "      <th>song_clean</th>\n",
       "      <th>artist_clean</th>\n",
       "      <th>asrtist w/o featuring</th>\n",
       "    </tr>\n",
       "  </thead>\n",
       "  <tbody>\n",
       "    <tr>\n",
       "      <th>110255</th>\n",
       "      <td>baguettes in the face</td>\n",
       "      <td>mustard featuring nav playboi carti  a boogie ...</td>\n",
       "      <td>mustard feat nav playboi carti  a boogie wit d...</td>\n",
       "    </tr>\n",
       "    <tr>\n",
       "      <th>33735</th>\n",
       "      <td>grillz</td>\n",
       "      <td>nelly featuring paul wall ali  gipp</td>\n",
       "      <td>nelly feat paul wall ali  gipp</td>\n",
       "    </tr>\n",
       "    <tr>\n",
       "      <th>131452</th>\n",
       "      <td>acrostico</td>\n",
       "      <td>shakira</td>\n",
       "      <td>shakira</td>\n",
       "    </tr>\n",
       "    <tr>\n",
       "      <th>115604</th>\n",
       "      <td>the woo</td>\n",
       "      <td>pop smoke featuring 50 cent  roddy ricch</td>\n",
       "      <td>pop smoke feat 50 cent  roddy ricch</td>\n",
       "    </tr>\n",
       "    <tr>\n",
       "      <th>99066</th>\n",
       "      <td>what ifs</td>\n",
       "      <td>kane brown featuring lauren alaina</td>\n",
       "      <td>kane brown feat lauren alaina</td>\n",
       "    </tr>\n",
       "  </tbody>\n",
       "</table>\n",
       "</div>"
      ],
      "text/plain": [
       "                   song_clean  \\\n",
       "110255  baguettes in the face   \n",
       "33735                  grillz   \n",
       "131452              acrostico   \n",
       "115604                the woo   \n",
       "99066                what ifs   \n",
       "\n",
       "                                             artist_clean  \\\n",
       "110255  mustard featuring nav playboi carti  a boogie ...   \n",
       "33735                 nelly featuring paul wall ali  gipp   \n",
       "131452                                            shakira   \n",
       "115604           pop smoke featuring 50 cent  roddy ricch   \n",
       "99066                  kane brown featuring lauren alaina   \n",
       "\n",
       "                                    asrtist w/o featuring  \n",
       "110255  mustard feat nav playboi carti  a boogie wit d...  \n",
       "33735                      nelly feat paul wall ali  gipp  \n",
       "131452                                            shakira  \n",
       "115604                pop smoke feat 50 cent  roddy ricch  \n",
       "99066                       kane brown feat lauren alaina  "
      ]
     },
     "execution_count": 33,
     "metadata": {},
     "output_type": "execute_result"
    }
   ],
   "source": [
    "unmatched_rows.sample(5)"
   ]
  },
  {
   "cell_type": "code",
   "execution_count": 34,
   "id": "572637c0",
   "metadata": {},
   "outputs": [
    {
     "data": {
      "text/plain": [
       "(2873, 3)"
      ]
     },
     "execution_count": 34,
     "metadata": {},
     "output_type": "execute_result"
    }
   ],
   "source": [
    "unmatched_rows.shape"
   ]
  },
  {
   "cell_type": "code",
   "execution_count": 35,
   "id": "16053533",
   "metadata": {},
   "outputs": [
    {
     "data": {
      "text/plain": [
       "array(['Smooth', 'Hot Boyz', 'Back That Thang Up', ...,\n",
       "       'Thought It Was Love', 'Old Phone', 'Me Prometi'],\n",
       "      shape=(2739,), dtype=object)"
      ]
     },
     "execution_count": 35,
     "metadata": {},
     "output_type": "execute_result"
    }
   ],
   "source": [
    "unmatched[\"song_name\"].dropna().unique()"
   ]
  },
  {
   "cell_type": "code",
   "execution_count": 36,
   "id": "cdf0c436",
   "metadata": {},
   "outputs": [
    {
     "name": "stdout",
     "output_type": "stream",
     "text": [
      "Missing matches: 31720 / 142101\n"
     ]
    }
   ],
   "source": [
    "print(f\"Missing matches: {merged_df['Track Name'].isna().sum()} / {len(merged_df)}\")"
   ]
  },
  {
   "cell_type": "code",
   "execution_count": 2,
   "id": "e8eae002",
   "metadata": {},
   "outputs": [],
   "source": [
    "spoti = SearchSpoti()"
   ]
  },
  {
   "cell_type": "code",
   "execution_count": null,
   "id": "be96ed61",
   "metadata": {},
   "outputs": [
    {
     "name": "stderr",
     "output_type": "stream",
     "text": [
      "242it [00:30,  3.62it/s]WARNING:root:Your application has reached a rate/request limit. Retry will occur after: None\n",
      "332it [00:44,  6.96it/s]WARNING:root:Your application has reached a rate/request limit. Retry will occur after: None\n",
      "2561it [07:25,  5.48it/s]WARNING:root:Your application has reached a rate/request limit. Retry will occur after: 51926\n"
     ]
    }
   ],
   "source": [
    "for i, row in tqdm(unmatched_rows.iterrows()):\n",
    "    spoti.search_spotify_fuzzy(row[\"song_clean\"], row[\"artist w/o featuring\"])\n",
    "    time.sleep(1)"
   ]
  },
  {
   "cell_type": "code",
   "execution_count": 3,
   "id": "766b6989",
   "metadata": {},
   "outputs": [],
   "source": [
    "cache = spoti.load_cache(\"../data/raw/unmatched_uri_cache.json\")"
   ]
  },
  {
   "cell_type": "code",
   "execution_count": 4,
   "id": "5dc65acd",
   "metadata": {},
   "outputs": [
    {
     "data": {
      "text/plain": [
       "147"
      ]
     },
     "execution_count": 4,
     "metadata": {},
     "output_type": "execute_result"
    }
   ],
   "source": [
    "len(cache)"
   ]
  },
  {
   "cell_type": "code",
   "execution_count": null,
   "id": "9df91a89",
   "metadata": {},
   "outputs": [
    {
     "name": "stderr",
     "output_type": "stream",
     "text": [
      "WARNING:root:Your application has reached a rate/request limit. Retry will occur after: 51829\n"
     ]
    }
   ],
   "source": [
    "spoti.create_playlist(\"../data/raw/unmatched_uri_cache.json\")"
   ]
  },
  {
   "cell_type": "code",
   "execution_count": null,
   "id": "43bd4e20",
   "metadata": {},
   "outputs": [],
   "source": [
    "print(f\"Missing matches: {merged_df['Track Name'].isna().sum()} / {len(merged_df)}\")"
   ]
  },
  {
   "cell_type": "code",
   "execution_count": null,
   "id": "370f3330",
   "metadata": {},
   "outputs": [],
   "source": [
    "unmatched_rows[\"artist first name\"] = unmatched_rows[\"artist_clean\"].str.split(\" \").str[0]"
   ]
  },
  {
   "cell_type": "code",
   "execution_count": null,
   "id": "7790da34",
   "metadata": {},
   "outputs": [],
   "source": [
    "def extract_first_artist(artist_string):\n",
    "    if pd.isna(artist_string):\n",
    "        return \"\"\n",
    "    else:\n",
    "        artist_string = re.sub(r\"[\\\"'“”‘’][^\\\"'“”‘’]+[\\\"'“”‘’]\", \"\", artist_string)\n",
    "        artist_string = artist_string.strip().strip(\"\\\"'“”‘’\")\n",
    "        return re.split(r\"[,&/x+]|featuring|Featuring|feat\\.\", artist_string)[0].strip().lower()"
   ]
  }
 ],
 "metadata": {
  "kernelspec": {
   "display_name": "Python 3",
   "language": "python",
   "name": "python3"
  },
  "language_info": {
   "codemirror_mode": {
    "name": "ipython",
    "version": 3
   },
   "file_extension": ".py",
   "mimetype": "text/x-python",
   "name": "python",
   "nbconvert_exporter": "python",
   "pygments_lexer": "ipython3",
   "version": "3.13.2"
  }
 },
 "nbformat": 4,
 "nbformat_minor": 5
}
