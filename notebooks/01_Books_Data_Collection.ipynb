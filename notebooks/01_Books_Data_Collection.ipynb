{
 "cells": [
  {
   "cell_type": "code",
   "execution_count": null,
   "id": "feeebce8",
   "metadata": {},
   "outputs": [],
   "source": [
    "import os\n",
    "from tqdm import tqdm\n",
    "import pandas as pd\n"
   ]
  },
  {
   "cell_type": "code",
   "execution_count": null,
   "id": "5eec829f",
   "metadata": {},
   "outputs": [],
   "source": [
    "from dotenv import load_dotenv\n",
    "import sys\n",
    "sys.path.append(\"../scripts\")\n",
    "from bookFetch  import pdfParser\n",
    "load_dotenv(\"../var.env\")\n",
    "parse = pdfParser()"
   ]
  },
  {
   "cell_type": "code",
   "execution_count": null,
   "id": "5707fc60",
   "metadata": {},
   "outputs": [],
   "source": [
    "from concurrent.futures import ThreadPoolExecutor\n",
    "pdf_folder = \"../pdfs\"\n",
    "filepaths = [os.path.join(pdf_folder, f) for f in os.listdir(pdf_folder) if f.endswith(\".pdf\")]\n",
    "\n",
    "all_entries = []\n",
    "\n",
    "\n",
    "with ThreadPoolExecutor(max_workers=4) as executor:\n",
    "    for result in tqdm(executor.map(parse.parse_pdf, filepaths), total=len(filepaths)):\n",
    "            if result:\n",
    "                all_entries.extend(result)"
   ]
  },
  {
   "cell_type": "code",
   "execution_count": null,
   "id": "5d28554d",
   "metadata": {},
   "outputs": [],
   "source": [
    "books_data = pd.DataFrame([e for e in all_entries if e is not None])\n",
    "books_data.to_csv(\"../data/raw/nyt_bestsellers_data.csv\")"
   ]
  },
  {
   "cell_type": "code",
   "execution_count": 18,
   "id": "892afe27",
   "metadata": {},
   "outputs": [],
   "source": [
    "books_data = pd.read_csv(\"../data/raw/nyt_bestsellers_data.csv\", low_memory=False)\n",
    "unique_books = books_data[[\"title\", \"author\"]].drop_duplicates().reset_index()"
   ]
  },
  {
   "cell_type": "code",
   "execution_count": 7,
   "id": "15096091",
   "metadata": {},
   "outputs": [],
   "source": [
    "all_entries = list(unique_books.to_dict(orient=\"records\"))"
   ]
  },
  {
   "cell_type": "code",
   "execution_count": null,
   "id": "6e6ce750",
   "metadata": {},
   "outputs": [],
   "source": [
    "def get_season(date):\n",
    "    month = date.month\n",
    "    if month in [12, 1, 2]:\n",
    "        return \"Winter\"\n",
    "    elif month in [3, 4, 5]:\n",
    "        return \"Spring\"\n",
    "    elif month in [6, 7, 8]:\n",
    "        return \"Summer\"\n",
    "    elif month in [9, 10, 11]:\n",
    "        return \"Autumn\""
   ]
  },
  {
   "cell_type": "code",
   "execution_count": null,
   "id": "7d813ae8",
   "metadata": {},
   "outputs": [],
   "source": [
    "books_data.dropna(how=\"all\", inplace=True)"
   ]
  },
  {
   "cell_type": "code",
   "execution_count": null,
   "id": "17e90918",
   "metadata": {},
   "outputs": [],
   "source": [
    "books_data[\"date\"] = pd.to_datetime(books_data[\"date\"])"
   ]
  },
  {
   "cell_type": "code",
   "execution_count": null,
   "id": "8d13d7ac",
   "metadata": {},
   "outputs": [],
   "source": [
    "books_data[\"season\"] = books_data[\"date\"].apply(get_season)"
   ]
  },
  {
   "cell_type": "code",
   "execution_count": null,
   "id": "54c14ed5",
   "metadata": {},
   "outputs": [],
   "source": [
    "books_data.to_csv(\"../data/raw/nyt_bestsellers.csv\")"
   ]
  },
  {
   "cell_type": "code",
   "execution_count": 9,
   "id": "9cbedc35",
   "metadata": {},
   "outputs": [],
   "source": [
    "api_call_count = 0"
   ]
  },
  {
   "cell_type": "code",
   "execution_count": 13,
   "id": "0cd753f8",
   "metadata": {},
   "outputs": [
    {
     "name": "stderr",
     "output_type": "stream",
     "text": [
      "100%|██████████| 1000/1000 [11:22<00:00,  1.47it/s]\n",
      "100%|██████████| 1000/1000 [15:41<00:00,  1.06it/s]\n",
      " 16%|█▋        | 165/1000 [06:12<31:26,  2.26s/it]\n",
      "  0%|          | 0/1000 [00:00<?, ?it/s]\n",
      "  0%|          | 0/1000 [00:00<?, ?it/s]\n",
      "  0%|          | 0/1000 [00:00<?, ?it/s]\n",
      "  0%|          | 0/1000 [00:00<?, ?it/s]\n",
      "  0%|          | 0/1000 [00:00<?, ?it/s]\n",
      "  0%|          | 0/646 [00:00<?, ?it/s]\n"
     ]
    }
   ],
   "source": [
    "from more_itertools import chunked\n",
    "if os.path.exists(\"../data/raw/batch_index.txt\"):\n",
    "    with open(\"../data/raw/batch_index.txt\", \"r\") as f:\n",
    "        start_batch = int(f.read())\n",
    "else:\n",
    "    start_batch = 0    \n",
    "batches = list(chunked(all_entries, 1000))\n",
    "for i, batch in enumerate(batches[start_batch:], start=start_batch):\n",
    "    result = parse.book_detail_generator(batch)\n",
    "    if result == \"Stop\":\n",
    "        with open(\"../data/raw/batch_index.txt\", \"w\") as f:\n",
    "            f.write(str(i))\n",
    "        break"
   ]
  },
  {
   "cell_type": "code",
   "execution_count": 20,
   "id": "fc55689d",
   "metadata": {},
   "outputs": [
    {
     "data": {
      "text/plain": [
       "(8646, 3)"
      ]
     },
     "execution_count": 20,
     "metadata": {},
     "output_type": "execute_result"
    }
   ],
   "source": [
    "unique_books.shape"
   ]
  },
  {
   "cell_type": "code",
   "execution_count": 19,
   "id": "00671e63",
   "metadata": {},
   "outputs": [
    {
     "data": {
      "text/html": [
       "<div>\n",
       "<style scoped>\n",
       "    .dataframe tbody tr th:only-of-type {\n",
       "        vertical-align: middle;\n",
       "    }\n",
       "\n",
       "    .dataframe tbody tr th {\n",
       "        vertical-align: top;\n",
       "    }\n",
       "\n",
       "    .dataframe thead th {\n",
       "        text-align: right;\n",
       "    }\n",
       "</style>\n",
       "<table border=\"1\" class=\"dataframe\">\n",
       "  <thead>\n",
       "    <tr style=\"text-align: right;\">\n",
       "      <th></th>\n",
       "      <th>index</th>\n",
       "      <th>title</th>\n",
       "      <th>author</th>\n",
       "    </tr>\n",
       "  </thead>\n",
       "  <tbody>\n",
       "    <tr>\n",
       "      <th>2164</th>\n",
       "      <td>12584</td>\n",
       "      <td>Fair Game</td>\n",
       "      <td>Valerie Plame Wilson</td>\n",
       "    </tr>\n",
       "    <tr>\n",
       "      <th>3811</th>\n",
       "      <td>19628</td>\n",
       "      <td>Fair Game</td>\n",
       "      <td>Patricia Briggs</td>\n",
       "    </tr>\n",
       "  </tbody>\n",
       "</table>\n",
       "</div>"
      ],
      "text/plain": [
       "      index      title                author\n",
       "2164  12584  Fair Game  Valerie Plame Wilson\n",
       "3811  19628  Fair Game       Patricia Briggs"
      ]
     },
     "execution_count": 19,
     "metadata": {},
     "output_type": "execute_result"
    }
   ],
   "source": [
    "unique_books[unique_books[\"title\"] == \"Fair Game\"]"
   ]
  }
 ],
 "metadata": {
  "kernelspec": {
   "display_name": "Python 3",
   "language": "python",
   "name": "python3"
  },
  "language_info": {
   "codemirror_mode": {
    "name": "ipython",
    "version": 3
   },
   "file_extension": ".py",
   "mimetype": "text/x-python",
   "name": "python",
   "nbconvert_exporter": "python",
   "pygments_lexer": "ipython3",
   "version": "3.13.2"
  }
 },
 "nbformat": 4,
 "nbformat_minor": 5
}
